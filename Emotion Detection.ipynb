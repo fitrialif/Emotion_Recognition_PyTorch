{
 "cells": [
  {
   "cell_type": "code",
   "execution_count": 1,
   "metadata": {},
   "outputs": [],
   "source": [
    "import numpy as np\n",
    "import pandas as pd\n",
    "import matplotlib.pyplot as plt\n",
    "import seaborn as sns\n",
    "%matplotlib inline"
   ]
  },
  {
   "cell_type": "code",
   "execution_count": 2,
   "metadata": {},
   "outputs": [],
   "source": [
    "df_train = pd.read_csv('train.csv')"
   ]
  },
  {
   "cell_type": "code",
   "execution_count": 3,
   "metadata": {},
   "outputs": [
    {
     "name": "stdout",
     "output_type": "stream",
     "text": [
      "The shape of X_train is 4178.\n",
      "The shape of y_train is 4178.\n"
     ]
    }
   ],
   "source": [
    "X_train = df_train['Pixels'].str.split(\" \", expand = True)\n",
    "X_train = np.asarray(X_train).astype(int)\n",
    "X_train = X_train.reshape(-1,48,48)\n",
    "\n",
    "y_train = np.asarray(df_train['Emotion']).reshape(-1,1).astype(int)\n",
    "\n",
    "print(f'The shape of X_train is {len(X_train)}.\\nThe shape of y_train is {len(y_train)}.')"
   ]
  },
  {
   "cell_type": "code",
   "execution_count": 4,
   "metadata": {},
   "outputs": [],
   "source": [
    "Emotion = {0:'Anger',\n",
    "           1:'Disgust',\n",
    "           2:'Fear',\n",
    "           3:'Happy',\n",
    "           4:'Sad',\n",
    "           5:'Surprise',\n",
    "           6:'Neutral'}"
   ]
  },
  {
   "cell_type": "code",
   "execution_count": 16,
   "metadata": {},
   "outputs": [],
   "source": [
    "# Display face sample\n",
    "from random import random\n",
    "\n",
    "\n",
    "def display_samp(num):\n",
    "    ax = plt.figure(figsize = (3,3))\n",
    "    ax = sns.heatmap(X_train[num], cmap = 'gray', cbar = False)\n",
    "    ax.set(yticklabels = [], xticklabels = [])\n",
    "    plt.title(Emotion[int(y_train[num])])\n",
    "    plt.show()"
   ]
  },
  {
   "cell_type": "code",
   "execution_count": 19,
   "metadata": {},
   "outputs": [
    {
     "data": {
      "image/png": "[encoded data removed]",
      "text/plain": [
       "<Figure size 216x216 with 1 Axes>"
      ]
     },
     "metadata": {
      "needs_background": "light"
     },
     "output_type": "display_data"
    }
   ],
   "source": [
    "display_samp(np.random.randint(len(X_train)))"
   ]
  },
  {
   "cell_type": "code",
   "execution_count": null,
   "metadata": {},
   "outputs": [],
   "source": []
  },
  {
   "cell_type": "code",
   "execution_count": null,
   "metadata": {},
   "outputs": [],
   "source": []
  }
 ],
 "metadata": {
  "kernelspec": {
   "display_name": "Python 3",
   "language": "python",
   "name": "python3"
  },
  "language_info": {
   "codemirror_mode": {
    "name": "ipython",
    "version": 3
   },
   "file_extension": ".py",
   "mimetype": "text/x-python",
   "name": "python",
   "nbconvert_exporter": "python",
   "pygments_lexer": "ipython3",
   "version": "3.6.7"
  }
 },
 "nbformat": 4,
 "nbformat_minor": 2
}
