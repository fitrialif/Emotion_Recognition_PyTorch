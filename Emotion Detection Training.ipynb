{
 "cells": [
  {
   "cell_type": "code",
   "execution_count": 1,
   "metadata": {},
   "outputs": [
    {
     "name": "stdout",
     "output_type": "stream",
     "text": [
      "Training on GPU\n"
     ]
    }
   ],
   "source": [
    "# Importing necessary modules\n",
    "\n",
    "# Calculation and data handling\n",
    "import numpy as np\n",
    "import pandas as pd\n",
    "\n",
    "# Data visualization\n",
    "import matplotlib.pyplot as plt\n",
    "import seaborn as sns\n",
    "%matplotlib inline\n",
    "\n",
    "# ML Modules\n",
    "import torch\n",
    "import torchvision\n",
    "\n",
    "# Data splitting\n",
    "from sklearn.model_selection import train_test_split\n",
    "\n",
    "from tqdm import tqdm\n",
    "\n",
    "gpu_check = torch.cuda.is_available()\n",
    "if gpu_check:\n",
    "    print(\"Training on GPU\")\n",
    "else:\n",
    "    print(\"Training on CPU\")"
   ]
  },
  {
   "cell_type": "code",
   "execution_count": 2,
   "metadata": {},
   "outputs": [
    {
     "ename": "FileNotFoundError",
     "evalue": "File b'\\\\data\\train.csv' does not exist",
     "output_type": "error",
     "traceback": [
      "\u001b[1;31m---------------------------------------------------------------------------\u001b[0m",
      "\u001b[1;31mFileNotFoundError\u001b[0m                         Traceback (most recent call last)",
      "\u001b[1;32m<ipython-input-2-d8a8553550b4>\u001b[0m in \u001b[0;36m<module>\u001b[1;34m\u001b[0m\n\u001b[0;32m      1\u001b[0m \u001b[1;31m# Import training dataset\u001b[0m\u001b[1;33m\u001b[0m\u001b[1;33m\u001b[0m\u001b[1;33m\u001b[0m\u001b[0m\n\u001b[1;32m----> 2\u001b[1;33m \u001b[0mdf\u001b[0m \u001b[1;33m=\u001b[0m \u001b[0mpd\u001b[0m\u001b[1;33m.\u001b[0m\u001b[0mread_csv\u001b[0m\u001b[1;33m(\u001b[0m\u001b[1;34m'\\data\\train.csv'\u001b[0m\u001b[1;33m)\u001b[0m\u001b[1;33m\u001b[0m\u001b[1;33m\u001b[0m\u001b[0m\n\u001b[0m",
      "\u001b[1;32mD:\\Users\\Prince\\Anaconda3\\envs\\tensorflow\\lib\\site-packages\\pandas\\io\\parsers.py\u001b[0m in \u001b[0;36mparser_f\u001b[1;34m(filepath_or_buffer, sep, delimiter, header, names, index_col, usecols, squeeze, prefix, mangle_dupe_cols, dtype, engine, converters, true_values, false_values, skipinitialspace, skiprows, nrows, na_values, keep_default_na, na_filter, verbose, skip_blank_lines, parse_dates, infer_datetime_format, keep_date_col, date_parser, dayfirst, iterator, chunksize, compression, thousands, decimal, lineterminator, quotechar, quoting, escapechar, comment, encoding, dialect, tupleize_cols, error_bad_lines, warn_bad_lines, skipfooter, doublequote, delim_whitespace, low_memory, memory_map, float_precision)\u001b[0m\n\u001b[0;32m    676\u001b[0m                     skip_blank_lines=skip_blank_lines)\n\u001b[0;32m    677\u001b[0m \u001b[1;33m\u001b[0m\u001b[0m\n\u001b[1;32m--> 678\u001b[1;33m         \u001b[1;32mreturn\u001b[0m \u001b[0m_read\u001b[0m\u001b[1;33m(\u001b[0m\u001b[0mfilepath_or_buffer\u001b[0m\u001b[1;33m,\u001b[0m \u001b[0mkwds\u001b[0m\u001b[1;33m)\u001b[0m\u001b[1;33m\u001b[0m\u001b[1;33m\u001b[0m\u001b[0m\n\u001b[0m\u001b[0;32m    679\u001b[0m \u001b[1;33m\u001b[0m\u001b[0m\n\u001b[0;32m    680\u001b[0m     \u001b[0mparser_f\u001b[0m\u001b[1;33m.\u001b[0m\u001b[0m__name__\u001b[0m \u001b[1;33m=\u001b[0m \u001b[0mname\u001b[0m\u001b[1;33m\u001b[0m\u001b[1;33m\u001b[0m\u001b[0m\n",
      "\u001b[1;32mD:\\Users\\Prince\\Anaconda3\\envs\\tensorflow\\lib\\site-packages\\pandas\\io\\parsers.py\u001b[0m in \u001b[0;36m_read\u001b[1;34m(filepath_or_buffer, kwds)\u001b[0m\n\u001b[0;32m    438\u001b[0m \u001b[1;33m\u001b[0m\u001b[0m\n\u001b[0;32m    439\u001b[0m     \u001b[1;31m# Create the parser.\u001b[0m\u001b[1;33m\u001b[0m\u001b[1;33m\u001b[0m\u001b[1;33m\u001b[0m\u001b[0m\n\u001b[1;32m--> 440\u001b[1;33m     \u001b[0mparser\u001b[0m \u001b[1;33m=\u001b[0m \u001b[0mTextFileReader\u001b[0m\u001b[1;33m(\u001b[0m\u001b[0mfilepath_or_buffer\u001b[0m\u001b[1;33m,\u001b[0m \u001b[1;33m**\u001b[0m\u001b[0mkwds\u001b[0m\u001b[1;33m)\u001b[0m\u001b[1;33m\u001b[0m\u001b[1;33m\u001b[0m\u001b[0m\n\u001b[0m\u001b[0;32m    441\u001b[0m \u001b[1;33m\u001b[0m\u001b[0m\n\u001b[0;32m    442\u001b[0m     \u001b[1;32mif\u001b[0m \u001b[0mchunksize\u001b[0m \u001b[1;32mor\u001b[0m \u001b[0miterator\u001b[0m\u001b[1;33m:\u001b[0m\u001b[1;33m\u001b[0m\u001b[1;33m\u001b[0m\u001b[0m\n",
      "\u001b[1;32mD:\\Users\\Prince\\Anaconda3\\envs\\tensorflow\\lib\\site-packages\\pandas\\io\\parsers.py\u001b[0m in \u001b[0;36m__init__\u001b[1;34m(self, f, engine, **kwds)\u001b[0m\n\u001b[0;32m    785\u001b[0m             \u001b[0mself\u001b[0m\u001b[1;33m.\u001b[0m\u001b[0moptions\u001b[0m\u001b[1;33m[\u001b[0m\u001b[1;34m'has_index_names'\u001b[0m\u001b[1;33m]\u001b[0m \u001b[1;33m=\u001b[0m \u001b[0mkwds\u001b[0m\u001b[1;33m[\u001b[0m\u001b[1;34m'has_index_names'\u001b[0m\u001b[1;33m]\u001b[0m\u001b[1;33m\u001b[0m\u001b[1;33m\u001b[0m\u001b[0m\n\u001b[0;32m    786\u001b[0m \u001b[1;33m\u001b[0m\u001b[0m\n\u001b[1;32m--> 787\u001b[1;33m         \u001b[0mself\u001b[0m\u001b[1;33m.\u001b[0m\u001b[0m_make_engine\u001b[0m\u001b[1;33m(\u001b[0m\u001b[0mself\u001b[0m\u001b[1;33m.\u001b[0m\u001b[0mengine\u001b[0m\u001b[1;33m)\u001b[0m\u001b[1;33m\u001b[0m\u001b[1;33m\u001b[0m\u001b[0m\n\u001b[0m\u001b[0;32m    788\u001b[0m \u001b[1;33m\u001b[0m\u001b[0m\n\u001b[0;32m    789\u001b[0m     \u001b[1;32mdef\u001b[0m \u001b[0mclose\u001b[0m\u001b[1;33m(\u001b[0m\u001b[0mself\u001b[0m\u001b[1;33m)\u001b[0m\u001b[1;33m:\u001b[0m\u001b[1;33m\u001b[0m\u001b[1;33m\u001b[0m\u001b[0m\n",
      "\u001b[1;32mD:\\Users\\Prince\\Anaconda3\\envs\\tensorflow\\lib\\site-packages\\pandas\\io\\parsers.py\u001b[0m in \u001b[0;36m_make_engine\u001b[1;34m(self, engine)\u001b[0m\n\u001b[0;32m   1012\u001b[0m     \u001b[1;32mdef\u001b[0m \u001b[0m_make_engine\u001b[0m\u001b[1;33m(\u001b[0m\u001b[0mself\u001b[0m\u001b[1;33m,\u001b[0m \u001b[0mengine\u001b[0m\u001b[1;33m=\u001b[0m\u001b[1;34m'c'\u001b[0m\u001b[1;33m)\u001b[0m\u001b[1;33m:\u001b[0m\u001b[1;33m\u001b[0m\u001b[1;33m\u001b[0m\u001b[0m\n\u001b[0;32m   1013\u001b[0m         \u001b[1;32mif\u001b[0m \u001b[0mengine\u001b[0m \u001b[1;33m==\u001b[0m \u001b[1;34m'c'\u001b[0m\u001b[1;33m:\u001b[0m\u001b[1;33m\u001b[0m\u001b[1;33m\u001b[0m\u001b[0m\n\u001b[1;32m-> 1014\u001b[1;33m             \u001b[0mself\u001b[0m\u001b[1;33m.\u001b[0m\u001b[0m_engine\u001b[0m \u001b[1;33m=\u001b[0m \u001b[0mCParserWrapper\u001b[0m\u001b[1;33m(\u001b[0m\u001b[0mself\u001b[0m\u001b[1;33m.\u001b[0m\u001b[0mf\u001b[0m\u001b[1;33m,\u001b[0m \u001b[1;33m**\u001b[0m\u001b[0mself\u001b[0m\u001b[1;33m.\u001b[0m\u001b[0moptions\u001b[0m\u001b[1;33m)\u001b[0m\u001b[1;33m\u001b[0m\u001b[1;33m\u001b[0m\u001b[0m\n\u001b[0m\u001b[0;32m   1015\u001b[0m         \u001b[1;32melse\u001b[0m\u001b[1;33m:\u001b[0m\u001b[1;33m\u001b[0m\u001b[1;33m\u001b[0m\u001b[0m\n\u001b[0;32m   1016\u001b[0m             \u001b[1;32mif\u001b[0m \u001b[0mengine\u001b[0m \u001b[1;33m==\u001b[0m \u001b[1;34m'python'\u001b[0m\u001b[1;33m:\u001b[0m\u001b[1;33m\u001b[0m\u001b[1;33m\u001b[0m\u001b[0m\n",
      "\u001b[1;32mD:\\Users\\Prince\\Anaconda3\\envs\\tensorflow\\lib\\site-packages\\pandas\\io\\parsers.py\u001b[0m in \u001b[0;36m__init__\u001b[1;34m(self, src, **kwds)\u001b[0m\n\u001b[0;32m   1706\u001b[0m         \u001b[0mkwds\u001b[0m\u001b[1;33m[\u001b[0m\u001b[1;34m'usecols'\u001b[0m\u001b[1;33m]\u001b[0m \u001b[1;33m=\u001b[0m \u001b[0mself\u001b[0m\u001b[1;33m.\u001b[0m\u001b[0musecols\u001b[0m\u001b[1;33m\u001b[0m\u001b[1;33m\u001b[0m\u001b[0m\n\u001b[0;32m   1707\u001b[0m \u001b[1;33m\u001b[0m\u001b[0m\n\u001b[1;32m-> 1708\u001b[1;33m         \u001b[0mself\u001b[0m\u001b[1;33m.\u001b[0m\u001b[0m_reader\u001b[0m \u001b[1;33m=\u001b[0m \u001b[0mparsers\u001b[0m\u001b[1;33m.\u001b[0m\u001b[0mTextReader\u001b[0m\u001b[1;33m(\u001b[0m\u001b[0msrc\u001b[0m\u001b[1;33m,\u001b[0m \u001b[1;33m**\u001b[0m\u001b[0mkwds\u001b[0m\u001b[1;33m)\u001b[0m\u001b[1;33m\u001b[0m\u001b[1;33m\u001b[0m\u001b[0m\n\u001b[0m\u001b[0;32m   1709\u001b[0m \u001b[1;33m\u001b[0m\u001b[0m\n\u001b[0;32m   1710\u001b[0m         \u001b[0mpassed_names\u001b[0m \u001b[1;33m=\u001b[0m \u001b[0mself\u001b[0m\u001b[1;33m.\u001b[0m\u001b[0mnames\u001b[0m \u001b[1;32mis\u001b[0m \u001b[1;32mNone\u001b[0m\u001b[1;33m\u001b[0m\u001b[1;33m\u001b[0m\u001b[0m\n",
      "\u001b[1;32mpandas\\_libs\\parsers.pyx\u001b[0m in \u001b[0;36mpandas._libs.parsers.TextReader.__cinit__\u001b[1;34m()\u001b[0m\n",
      "\u001b[1;32mpandas\\_libs\\parsers.pyx\u001b[0m in \u001b[0;36mpandas._libs.parsers.TextReader._setup_parser_source\u001b[1;34m()\u001b[0m\n",
      "\u001b[1;31mFileNotFoundError\u001b[0m: File b'\\\\data\\train.csv' does not exist"
     ]
    }
   ],
   "source": [
    "# Import training dataset\n",
    "df = pd.read_csv('\\data\\train.csv')"
   ]
  },
  {
   "cell_type": "code",
   "execution_count": null,
   "metadata": {},
   "outputs": [],
   "source": [
    "# Define dictionary of output to description\n",
    "Emotion = {0:'Anger',\n",
    "           1:'Disgust',\n",
    "           2:'Fear',\n",
    "           3:'Happy',\n",
    "           4:'Sad',\n",
    "           5:'Surprise',\n",
    "           6:'Neutral'}"
   ]
  },
  {
   "cell_type": "code",
   "execution_count": null,
   "metadata": {},
   "outputs": [],
   "source": [
    "# Display dataset distribution\n",
    "ax = sns.countplot(df['Emotion'])\n",
    "ax.set(xticklabels = Emotion.values(), title = \"Dataset Count\")\n",
    "plt.show()"
   ]
  },
  {
   "cell_type": "code",
   "execution_count": null,
   "metadata": {},
   "outputs": [],
   "source": [
    "# View first 5 rows of data\n",
    "df.head()"
   ]
  },
  {
   "cell_type": "markdown",
   "metadata": {},
   "source": [
    "The dataset shows that the images are stored in one cell and delimited with space."
   ]
  },
  {
   "cell_type": "code",
   "execution_count": null,
   "metadata": {},
   "outputs": [],
   "source": [
    "# Define validation size set\n",
    "val_size = 0.2\n",
    "\n",
    "# Create a 3D array for our feature values\n",
    "# Split the 'Pixels' column based on space\n",
    "X = df['Pixels'].str.split(\" \", expand = True)\n",
    "# Convert dataset to float\n",
    "X = np.asarray(X).astype(float)\n",
    "# Normalize the dataset\n",
    "X = X/255.0\n",
    "# Reshape the dataset into a 4D array\n",
    "X = X.reshape(-1,1,48,48)\n",
    "\n",
    "# Create a 1D array for our target values\n",
    "y = np.asarray(df['Emotion']).reshape(-1,1).astype(int)\n",
    "\n",
    "# Stratify split the dataset to train and validation sets\n",
    "X_train, X_val, y_train, y_val = train_test_split(X, y, test_size = 0.2, stratify = y)\n",
    "\n",
    "# Show number of training and validation data\n",
    "print(f'The number of items in X_train is {len(X_train)}.\\nThe number of items in y_train is {len(y_train)}.\\n')\n",
    "print(f'The number of items in X_train is {len(X_val)}.\\nThe number of items in y_train is {len(y_val)}.')"
   ]
  },
  {
   "cell_type": "code",
   "execution_count": null,
   "metadata": {},
   "outputs": [],
   "source": [
    "# Define function to display sample data\n",
    "def display_tensor(x,y):\n",
    "    plt.figure(figsize = (5,5))\n",
    "    plt.imshow(x.reshape(48,48), cmap = 'gray')\n",
    "    plt.title(y)\n",
    "    plt.show()"
   ]
  },
  {
   "cell_type": "code",
   "execution_count": null,
   "metadata": {},
   "outputs": [],
   "source": [
    "# Display a sample data\n",
    "import random\n",
    "\n",
    "ran = random.randint(0,len(X_train))\n",
    "display_tensor(X[ran], Emotion[int(y[ran])])"
   ]
  },
  {
   "cell_type": "code",
   "execution_count": null,
   "metadata": {},
   "outputs": [],
   "source": [
    "# Display sample faces per emotion\n",
    "fig = plt.figure(figsize=(25, 4))\n",
    "for i in range(len(Emotion)):\n",
    "    ax = fig.add_subplot(1, 7, i+1, xticks=[], yticks=[])\n",
    "    ax.imshow(np.squeeze(X_train[np.argmax(y_train == i)].reshape(48,48)), cmap='gray')\n",
    "    ax.set_title(Emotion[int(y_train[np.argmax(y_train == i)])])"
   ]
  },
  {
   "cell_type": "code",
   "execution_count": null,
   "metadata": {},
   "outputs": [],
   "source": [
    "# Create PyTorch dataset from the numpy dataset\n",
    "import torch.utils.data as utils\n",
    "import torchvision.transforms as transforms\n",
    "\n",
    "# Create tensors of the training dataset for PyTorch\n",
    "tensor_x = torch.stack([torch.Tensor(i) for i in X_train])\n",
    "tensor_y = torch.stack([torch.Tensor(i) for i in y_train])\n",
    "train_data = utils.TensorDataset(tensor_x, tensor_y)\n",
    "\n",
    "# Create tensors of the validation dataset for PyTorch\n",
    "tensor_x = torch.stack([torch.Tensor(i) for i in X_val])\n",
    "tensor_y = torch.stack([torch.Tensor(i) for i in y_val])\n",
    "valid_data = utils.TensorDataset(tensor_x, tensor_y)"
   ]
  },
  {
   "cell_type": "code",
   "execution_count": null,
   "metadata": {},
   "outputs": [],
   "source": [
    "# Define training and validation transforms\n",
    "train_transform = transforms.Compose([transforms.ToTensor(),\n",
    "                                      transforms.RandomHorizontalFlip()])\n",
    "valid_transform = transforms.Compose([transforms.ToTensor()])"
   ]
  },
  {
   "cell_type": "code",
   "execution_count": null,
   "metadata": {},
   "outputs": [],
   "source": [
    "# Define loader functions for training and validation set\n",
    "num_workers = 0\n",
    "batch_size = 20\n",
    "\n",
    "train_loader = torch.utils.data.DataLoader(train_data, batch_size = batch_size,\n",
    "                                           shuffle = True, num_workers = num_workers)\n",
    "valid_loader = torch.utils.data.DataLoader(valid_data, batch_size = batch_size,\n",
    "                                           shuffle = True, num_workers = num_workers)"
   ]
  },
  {
   "cell_type": "code",
   "execution_count": null,
   "metadata": {},
   "outputs": [],
   "source": [
    "# Define 3 layer convolutional reference\n",
    "import torch.nn as nn\n",
    "import torch.nn.functional as F\n",
    "\n",
    "# Below are reference papers used\n",
    "# https://arxiv.org/pdf/1302.4389v3.pdf  (student assistant solution)\n",
    "# https://arxiv.org/ftp/arxiv/papers/1706/706.01509.pdf (paper about emotion detection)\n",
    "\n",
    "class Net(nn.Module):\n",
    "    def __init__(self):\n",
    "        super(Net, self).__init__()\n",
    "        # Convolutional layer (sees 48x48x1 image tensor)\n",
    "        self.conv1 = nn.Conv2d(1, 30, 3, padding = 1)\n",
    "        # Convolutional layer (sees 24x24x20 image tensor)\n",
    "        self.conv2 = nn.Conv2d(30, 30, 7, padding = 2)\n",
    "        # Convolutional layer (sees 12x12x20 image tensor)\n",
    "        self.conv3 = nn.Conv2d(30, 30, 11, padding = 5)\n",
    "        \n",
    "        self.maxpool = nn.MaxPool2d(2,2)\n",
    "        \n",
    "        self.fc1 = nn.Linear(30*6*6, 256)\n",
    "        self.fc2 = nn.Linear(256, 128)\n",
    "        self.fc3 = nn.Linear(128, 7)\n",
    "        \n",
    "        self.dropout = nn.Dropout(p = 0.5)\n",
    "        \n",
    "        self.logsoftmax = nn.LogSoftmax(dim = 1)\n",
    "        \n",
    "    def forward(self, x):\n",
    "        x = self.maxpool(F.relu(self.conv1(x)))\n",
    "        x = self.maxpool(F.relu(self.conv2(x)))\n",
    "        x = self.maxpool(F.relu(self.conv3(x)))\n",
    "        x = x.view(-1, 6*6*30)\n",
    "        x = self.dropout(x)\n",
    "        x = F.relu(self.fc1(x))\n",
    "        x = self.dropout(x)\n",
    "        x = F.relu(self.fc2(x))\n",
    "        x = self.dropout(x)\n",
    "        x = self.fc3(x)\n",
    "        return x\n",
    "\n",
    "# Set defined model as working model\n",
    "model = Net()"
   ]
  },
  {
   "cell_type": "code",
   "execution_count": null,
   "metadata": {},
   "outputs": [],
   "source": [
    "# This line is added to upload the current best model parameters into the model based on previous training\n",
    "# This line should not be used if the model was changed\n",
    "\n",
    "# model.load_state_dict(torch.load('\\models\\model.pth'))"
   ]
  },
  {
   "cell_type": "code",
   "execution_count": null,
   "metadata": {},
   "outputs": [],
   "source": [
    "# Define loss criterion and optimizer\n",
    "criterion = nn.CrossEntropyLoss()\n",
    "optimizer = torch.optim.SGD(model.parameters(), lr = 0.01)"
   ]
  },
  {
   "cell_type": "code",
   "execution_count": null,
   "metadata": {},
   "outputs": [],
   "source": [
    "# Define training epochs\n",
    "n_epoch = 200\n",
    "\n",
    "# Define starting validation loss and previous validation\n",
    "valid_loss_ret = np.Inf\n",
    "valid_loss_min = np.Inf\n",
    "\n",
    "# If GPU is available, move model to GPU\n",
    "if gpu_check:\n",
    "    model.to('cuda')\n",
    "\n",
    "# Main training loop\n",
    "for epoch in tqdm(range(n_epoch)):\n",
    "    \n",
    "    # Initialize training and validation loss to zero\n",
    "    train_loss = 0\n",
    "    valid_loss = 0\n",
    "    \n",
    "    # Set model to train mode\n",
    "    model.train()\n",
    "\n",
    "    # Define main training loop\n",
    "    for data, target in train_loader:\n",
    "        # Move data and target datasets to GPU if it is available\n",
    "        if gpu_check:\n",
    "            data, target = data.to('cuda'), target.to('cuda')\n",
    "        # Remove empty dimensions\n",
    "        target = target.squeeze()\n",
    "        # Zero out gradients of the optimizer\n",
    "        optimizer.zero_grad()\n",
    "        # Generate model predictions\n",
    "        output = model(data)\n",
    "        # Calculate loss of model\n",
    "        loss = criterion(output, target.long())\n",
    "        # Perform back propagation\n",
    "        loss.backward()\n",
    "        # Update weights\n",
    "        optimizer.step()\n",
    "        # Calculate total training loss\n",
    "        train_loss += loss.item() * data.size(0)\n",
    "    \n",
    "    # Set model to evaluation mode\n",
    "    model.eval()\n",
    "    \n",
    "    # Define main validation loop\n",
    "    for data, target in valid_loader:\n",
    "        # Move data and target datasets to GPU if it is available\n",
    "        if gpu_check:\n",
    "            data, target = data.to('cuda'), target.to('cuda')\n",
    "        # Remove empty dimensions\n",
    "        target = target.squeeze()\n",
    "        # Generate model predictions\n",
    "        output = model(data)\n",
    "        # Calculate loss of model\n",
    "        loss = criterion(output, target.long())\n",
    "        # Calculate total validation loss\n",
    "        valid_loss += loss.item() * data.size(0)\n",
    "    \n",
    "    # Calculate average training loss of training and validation\n",
    "    train_loss = train_loss/len(train_loader.dataset)\n",
    "    valid_loss = valid_loss/len(valid_loader.dataset)\n",
    "    \n",
    "    # Save model state_dicts if validation loss improved\n",
    "    if valid_loss < valid_loss_min:\n",
    "        torch.save(model.state_dict(), '\\models\\model.pth')\n",
    "        valid_loss_min = valid_loss\n",
    "    \n",
    "    # Print update if epoch is divisible by 25\n",
    "    #if epoch%2500 == 0 and epoch>0:\n",
    "    #    print(f'Trained from epoch {epoch - 25} to {epoch}')\n",
    "    #    print('Validation accuracy improved from {:.6f} to {:.6f}'.format(valid_loss_ret,\n",
    "    #                                                                      valid_loss_min))\n",
    "    #    valid_loss_ret = valid_loss_min"
   ]
  },
  {
   "cell_type": "code",
   "execution_count": null,
   "metadata": {},
   "outputs": [],
   "source": [
    "# This line is added to upload the current best model parameters into the model based on previous training\n",
    "model.load_state_dict(torch.load('\\models\\model.pth'))"
   ]
  },
  {
   "cell_type": "code",
   "execution_count": null,
   "metadata": {},
   "outputs": [],
   "source": [
    "# Define function to predict output and compare with ground truth\n",
    "def test_model(img, label, model):\n",
    "    X = torch.Tensor(img.reshape(1,1,48,48))\n",
    "    output = model(X)\n",
    "    _, pred = torch.max(output,1)\n",
    "    Emotion[int(pred)], label, pred\n",
    "    display_tensor(X, f'Prediction: {Emotion[int(pred)]}\\nActual:{label}')"
   ]
  },
  {
   "cell_type": "code",
   "execution_count": null,
   "metadata": {},
   "outputs": [],
   "source": [
    "# Calculate percent accuracy of model in the validation set\n",
    "model.to('cpu')\n",
    "y_pred = []\n",
    "corr = 0\n",
    "wrong = []\n",
    "for i in tqdm(range(len(X_val))):\n",
    "    output = model(torch.Tensor(X_val[i].reshape(1,1,48,48)))\n",
    "    _, pred = torch.max(output,1)\n",
    "    y_pred.append(pred)\n",
    "    if int(pred) == int(y_val[i]):\n",
    "        corr += 1\n",
    "    else:\n",
    "        wrong.append(i)\n",
    "\n",
    "print(\"The model's accuracy is {:.2f}%\".format(corr*100/len(X_val)))"
   ]
  },
  {
   "cell_type": "code",
   "execution_count": null,
   "metadata": {},
   "outputs": [],
   "source": [
    "# Generate a confusion matrix to identify what the model incorrectly identifies\n",
    "from sklearn.metrics import confusion_matrix\n",
    "\n",
    "sns.set(rc={'figure.figsize':(6,6)})\n",
    "ax = sns.heatmap(confusion_matrix(y_pred, y_val), cmap='gray_r', \n",
    "                 annot = True, cbar = False, \n",
    "                 xticklabels = list(Emotion.values()),\n",
    "                 yticklabels = list(Emotion.values()))\n",
    "ax.set(xlabel='Predicted', ylabel='Actual')\n",
    "plt.show()"
   ]
  },
  {
   "cell_type": "code",
   "execution_count": null,
   "metadata": {},
   "outputs": [],
   "source": [
    "# Sample of incorrect prediction\n",
    "ran = wrong[8]\n",
    "test_model(X_val[ran], Emotion[int(y_val[ran])], model)"
   ]
  },
  {
   "cell_type": "code",
   "execution_count": null,
   "metadata": {},
   "outputs": [],
   "source": [
    "\n"
   ]
  }
 ],
 "metadata": {
  "kernelspec": {
   "display_name": "Python 3",
   "language": "python",
   "name": "python3"
  },
  "language_info": {
   "codemirror_mode": {
    "name": "ipython",
    "version": 3
   },
   "file_extension": ".py",
   "mimetype": "text/x-python",
   "name": "python",
   "nbconvert_exporter": "python",
   "pygments_lexer": "ipython3",
   "version": "3.6.7"
  }
 },
 "nbformat": 4,
 "nbformat_minor": 2
}
